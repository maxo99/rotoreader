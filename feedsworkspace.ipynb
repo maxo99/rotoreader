{
 "cells": [
  {
   "cell_type": "code",
   "execution_count": null,
   "id": "49d02a97",
   "metadata": {},
   "outputs": [],
   "source": [
    "import json\n",
    "\n",
    "import feedparser\n",
    "\n",
    "from rotoreader.model.constants import NEWS_RSS_FEEDS\n",
    "from rotoreader.service.feedsreader import collect_feeddata\n"
   ]
  },
  {
   "cell_type": "code",
   "execution_count": null,
   "id": "7f6c3445",
   "metadata": {},
   "outputs": [],
   "source": [
    "def process_feed(name, feed_url):\n",
    "    try:\n",
    "        feed = feedparser.parse(feed_url)\n",
    "        print(f\"Processing feed: {name} ({feed_url})\")\n",
    "        if feed.bozo:\n",
    "            raise ValueError(f\"Error fetching feed: {feed.bozo_exception}\")\n",
    "        print(f\"Feed channel: {feed.channel}\")\n",
    "        for entry in feed.entries[:5]:  # Display first 5 entries\n",
    "            data = {\n",
    "                'id': entry.id,\n",
    "                'title': entry.title,\n",
    "                'summary': entry.summary,\n",
    "                'published': entry.published,\n",
    "                'author': entry.author if 'author' in entry else 'Unknown',\n",
    "                'link': entry.link\n",
    "            }\n",
    "            print(json.dumps(data, indent=2))\n",
    "\n",
    "    except Exception as e:\n",
    "        print(f\"Failed to process feed {feed_url}: {e}\")\n",
    "        return None\n",
    "\n",
    "process_feed(*next(iter(NEWS_RSS_FEEDS.items())))  # Process the first feed URL"
   ]
  },
  {
   "cell_type": "code",
   "execution_count": null,
   "id": "f59529aa",
   "metadata": {},
   "outputs": [],
   "source": [
    "fd = collect_feeddata()\n",
    "for team, entries in fd._team_cache.items():\n",
    "    print(f\"Team {team} has {len(entries)} entries:\")\n",
    "    for entry in entries:\n",
    "        print(f\"({entry.published})  - {entry.title}\")\n"
   ]
  }
 ],
 "metadata": {
  "kernelspec": {
   "display_name": "news-reader",
   "language": "python",
   "name": "python3"
  },
  "language_info": {
   "codemirror_mode": {
    "name": "ipython",
    "version": 3
   },
   "file_extension": ".py",
   "mimetype": "text/x-python",
   "name": "python",
   "nbconvert_exporter": "python",
   "pygments_lexer": "ipython3",
   "version": "3.12.3"
  }
 },
 "nbformat": 4,
 "nbformat_minor": 5
}
